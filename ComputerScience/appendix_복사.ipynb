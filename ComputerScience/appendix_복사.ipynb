{
 "cells": [
  {
   "cell_type": "markdown",
   "metadata": {},
   "source": [
    "## 0. 자료형 : mutable, immutable\n",
    "\n",
    "- mutable 객체 : `변경 가능한 객체`\n",
    "- immutable 객체 : `변경 불가능한 객체`\n",
    "\n",
    "\n",
    "- 자료형에 따른 객체 구분\n",
    "    - mutable : List, Dictionary, Set\n",
    "    - immutable : String, Int, Float, Boolean, Tuple\n",
    "    \n",
    "    \n",
    "- `mutable 한 경우를 copy하면 값이 수정될수 있지만, immutable 한 경우에는 값이 수정되는 것이 아니라 아예 새로운 객체로 변경된다. `\n",
    "    \n",
    "    - mutable객체\n",
    "    <img src = \"./imgs/ap1_1.png\" width ="60%" >\n",
    "    - immutable객체\n",
    "    <img src = \"./imgs/ap1_2.png\" width ="60%" >\n"
   ]
  },
  {
   "cell_type": "markdown",
   "metadata": {},
   "source": [
    "## 1. 얕은 복사"
   ]
  },
  {
   "cell_type": "code",
   "execution_count": 23,
   "metadata": {},
   "outputs": [
    {
     "data": {
      "text/plain": [
       "(120782344520, 120782344456)"
      ]
     },
     "execution_count": 23,
     "metadata": {},
     "output_type": "execute_result"
    }
   ],
   "source": [
    "x = [[1, 2], 3, 4]\n",
    "y = x.copy()\n",
    "\n",
    "id(x), id(y)  # not same"
   ]
  },
  {
   "cell_type": "code",
   "execution_count": 24,
   "metadata": {},
   "outputs": [
    {
     "data": {
      "text/plain": [
       "[['change', 2], 'value', 4]"
      ]
     },
     "execution_count": 24,
     "metadata": {},
     "output_type": "execute_result"
    }
   ],
   "source": [
    "x[0][0] = \"change\"\n",
    "x[1] = \"value\"\n",
    "x"
   ]
  },
  {
   "cell_type": "code",
   "execution_count": 25,
   "metadata": {},
   "outputs": [
    {
     "data": {
      "text/plain": [
       "[['change', 2], 3, 4]"
      ]
     },
     "execution_count": 25,
     "metadata": {},
     "output_type": "execute_result"
    }
   ],
   "source": [
    "y"
   ]
  },
  {
   "cell_type": "code",
   "execution_count": 30,
   "metadata": {},
   "outputs": [],
   "source": [
    "# cf. 단순객체 복사는 똑같은 객체를 복사할 뿐만 아니라  immutable한 객체도 변경 가능하다."
   ]
  },
  {
   "cell_type": "code",
   "execution_count": 27,
   "metadata": {},
   "outputs": [
    {
     "data": {
      "text/plain": [
       "(120750768712, 120750768712)"
      ]
     },
     "execution_count": 27,
     "metadata": {},
     "output_type": "execute_result"
    }
   ],
   "source": [
    "x = [[1, 2], 3, 4]\n",
    "y = x\n",
    "\n",
    "id(x), id(y)  # same"
   ]
  },
  {
   "cell_type": "code",
   "execution_count": 28,
   "metadata": {},
   "outputs": [
    {
     "data": {
      "text/plain": [
       "[['change', 2], 'value', 4]"
      ]
     },
     "execution_count": 28,
     "metadata": {},
     "output_type": "execute_result"
    }
   ],
   "source": [
    "x[0][0] = \"change\"\n",
    "x[1] = \"value\"\n",
    "x"
   ]
  },
  {
   "cell_type": "code",
   "execution_count": 29,
   "metadata": {},
   "outputs": [
    {
     "data": {
      "text/plain": [
       "[['change', 2], 'value', 4]"
      ]
     },
     "execution_count": 29,
     "metadata": {},
     "output_type": "execute_result"
    }
   ],
   "source": [
    "y"
   ]
  },
  {
   "cell_type": "markdown",
   "metadata": {},
   "source": [
    "## 2. 깊은 복사\n",
    "\n",
    "- 얕은 복사 시 내부의 mutable한 객체가 변경되는 문제점을 해결하기 위해서 사용."
   ]
  },
  {
   "cell_type": "code",
   "execution_count": 32,
   "metadata": {},
   "outputs": [
    {
     "data": {
      "text/plain": [
       "(120783522568, 120782586568)"
      ]
     },
     "execution_count": 32,
     "metadata": {},
     "output_type": "execute_result"
    }
   ],
   "source": [
    "import copy\n",
    "\n",
    "x2 = [[1, 2], 3, 4]\n",
    "y2 = copy.deepcopy(x2)\n",
    "\n",
    "id(x2), id(y2) # not same"
   ]
  },
  {
   "cell_type": "code",
   "execution_count": 33,
   "metadata": {},
   "outputs": [
    {
     "data": {
      "text/plain": [
       "[['change', 2], 'value', 4]"
      ]
     },
     "execution_count": 33,
     "metadata": {},
     "output_type": "execute_result"
    }
   ],
   "source": [
    "x2[0][0] = \"change\"\n",
    "x2[1] = \"value\"\n",
    "x2"
   ]
  },
  {
   "cell_type": "code",
   "execution_count": 34,
   "metadata": {},
   "outputs": [
    {
     "data": {
      "text/plain": [
       "[[1, 2], 3, 4]"
      ]
     },
     "execution_count": 34,
     "metadata": {},
     "output_type": "execute_result"
    }
   ],
   "source": [
    "y2"
   ]
  },
  {
   "cell_type": "markdown",
   "metadata": {},
   "source": [
    "reference : https://ledgku.tistory.com/54 "
   ]
  }
 ],
 "metadata": {
  "kernelspec": {
   "display_name": "Python 3",
   "language": "python",
   "name": "python3"
  },
  "language_info": {
   "codemirror_mode": {
    "name": "ipython",
    "version": 3
   },
   "file_extension": ".py",
   "mimetype": "text/x-python",
   "name": "python",
   "nbconvert_exporter": "python",
   "pygments_lexer": "ipython3",
   "version": "3.7.3"
  }
 },
 "nbformat": 4,
 "nbformat_minor": 2
}
