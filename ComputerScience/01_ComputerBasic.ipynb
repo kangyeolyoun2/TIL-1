{
 "cells": [
  {
   "cell_type": "markdown",
   "metadata": {},
   "source": [
    "1. 컴퓨터의 기능\n",
    "    - 처리할 데이터를 컴퓨터로 입력한다. ( 입력 기능 )\n",
    "    - 입력데이터, 처리 결과, 프로그램 등을 기억한다. ( 기억 기능 )\n",
    "    - 사칙연산, 논리연산 등을 수행한다. ( 연산 기능 )\n",
    "    - 명령을 해독하고 각 장치를 통제한다. ( 제어 기능 )\n",
    "    - 처리 결과를 사람이 원하는 형태로 출력한다. ( 출력 기능 )\n",
    "    \n",
    "    \n",
    "    \n",
    "2. 하드웨어와 소프트웨어\n",
    "    - 하드웨어 : 컴퓨터를 구성하는 기계장치. 소프트웨어에서 지시한 일을 수행. 하나의 칩으로 된 중앙처리장치를 마이크로프로세서라 함.\n",
    "        - 중앙처리장치 (CPU) : 명령을 해독하고 실행하는 장치. \n",
    "        - 기억장치\n",
    "           - 실행 중인 프로그램과 프로그램에 필요한 데이터를 저장하는 장치.\n",
    "           - 기억장치를 계층화하여, 우수한 기억장치의 조건을 만족시킴. 즉, CPU가 당장 필요로 하는 프로그램과 데이터는 빠른 속도의 레지스터, 캐시기억장치, 주기억장치( RAM/ ROM )에 저장시켜놓고, CPU가 필요로 하지 않는 많은 양의 프로그램과 데이터는 보조기억장치( 하드디스크/ SSD 등 )에 저장해놓고 이용함.\n",
    "        - 입력장치\n",
    "        - 출력장치 \n",
    "    - 소프트웨어 : 하드웨어의 동작을 지시하고 제어하는 역할을 하는 프로그램과 프로그램에 필요한 데이터.\n",
    "    \n",
    "    \n",
    "    \n",
    "   "
   ]
  },
  {
   "cell_type": "markdown",
   "metadata": {},
   "source": [
    " 3. 데이터의 표현과 논리\n",
    "     - 컴퓨터의 정보 표현 방식\n",
    "         - 초기 컴퓨터의 10진수 정보 표기 방식의 문제점을 보완하기 위해 문자, 정수, 실수, 그림, 소리, 동영상 등의 모든 정보를 2진수 형식( 0 또는 1 )으로 표현.\n",
    "         - 하나의 0 또는 1을 비트( = 컴퓨터의 최소 단위 )라 함.\n",
    "         - n비트로 $2^n$ 가지의 정보를 표현할 수 있음. \n",
    "     - 문자 표현\n",
    "         - 아스키코드\n",
    "             - 아스키 코드는 각 문자를 7비트로 표현함. 최대 128($2^7$)개의 문자 표현\n",
    "             - 다양한 나라의 언어를 표현할 수 없음.\n",
    "         - 유니코드\n",
    "             - 여러 나라의 언어를 표현하고자 만든 코드 체계\n",
    "             - 16비트로 표현. \n",
    "     - 텍스트 압축 : 허프만 코딩\n",
    "         - 대부분의 압축 프로그램에서 쓰는 방법으로, 자주 사용되는 문자는 적은 수의 비트로 표현하고, 자주 사용되지 않는 문자는 많은 수의 비트로 표현하여 필요한 비트의 양을 줄이는 방법. \n",
    "     - 게이트 \n",
    "         - 컴퓨터의 기본 구성요소인 논리회로에서 가장 기본이 되는 회로를 뜻함. \n",
    "         - OR게이트\n",
    "         - AND게이트\n",
    "         - NOT게이트\n",
    "         - XOR게이트\n",
    "             - 두 개의 입력을 받아 입력값이 같으면 0을 출력하고, 다르면 1을 출력. \n",
    "             \n",
    "|  <center>A</center> |  <center>B</center> |  <center>A XOR B</center> |\n",
    "|:--------|:--------:|--------:|\n",
    "|<center>0 </center> | <center>0</center> |<center>0</center>|\n",
    "|<center>0 </center> | <center>1</center> |<center>1</center> |\n",
    "|<center>1</center> | <center>0</center> |<center>1</center> |\n",
    "|<center>1</center> | <center>1</center> |<center>0</center> |\n",
    "\n",
    "        - NOR게이트\n",
    "              - OR게이트에 NOT 게이트를 연결한 것\n",
    "          \n",
    "|  <center>A</center> |  <center>B</center> |  <center>A NOR B</center> |\n",
    "|:--------|:--------:|--------:|\n",
    "|<center>0 </center> | <center>0</center> |<center>1</center>|\n",
    "|<center>0 </center> | <center>1</center> |<center>0</center> |\n",
    "|<center>1</center> | <center>0</center> |<center>0</center> |\n",
    "|<center>1</center> | <center>1</center> |<center>1</center> |\n",
    "\n",
    "      - NAND게이트\n",
    "          - AND게이트에 NOT게이트를 연결한 것\n",
    "          \n",
    "|  <center>A</center> |  <center>B</center> |  <center>A NAND B</center> |\n",
    "|:--------|:--------:|--------:|\n",
    "|<center>0 </center> | <center>0</center> |<center>1</center>|\n",
    "|<center>0 </center> | <center>1</center> |<center>1</center> |\n",
    "|<center>1</center> | <center>0</center> |<center>1</center> |\n",
    "|<center>1</center> | <center>1</center> |<center>0</center> |"
   ]
  }
 ],
 "metadata": {
  "kernelspec": {
   "display_name": "Python 3",
   "language": "python",
   "name": "python3"
  },
  "language_info": {
   "codemirror_mode": {
    "name": "ipython",
    "version": 3
   },
   "file_extension": ".py",
   "mimetype": "text/x-python",
   "name": "python",
   "nbconvert_exporter": "python",
   "pygments_lexer": "ipython3",
   "version": "3.7.3"
  }
 },
 "nbformat": 4,
 "nbformat_minor": 2
}
