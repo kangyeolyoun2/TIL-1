{
 "cells": [
  {
   "cell_type": "markdown",
   "metadata": {},
   "source": [
    "### 1. Left Rotation\n",
    "- 시작 숫자와 끝숫자를 입력 받아 리스트를 생성\n",
    "    - start : 5, end : 10 -> [5, 6, 7, 8, 9, 10]\n",
    "- 왼쪽으로 로테이션할 횟수를 입력 받음\n",
    "    - rotation count : 9\n",
    "- 왼쪽으로 로테이션한 결과를 출력\n",
    "    - [8, 9, 10, 5, 6, 7]"
   ]
  },
  {
   "cell_type": "code",
   "execution_count": 32,
   "metadata": {},
   "outputs": [
    {
     "name": "stdout",
     "output_type": "stream",
     "text": [
      "5 10 9\n"
     ]
    },
    {
     "data": {
      "text/plain": [
       "[8, 9, 10, 5, 6, 7]"
      ]
     },
     "execution_count": 32,
     "metadata": {},
     "output_type": "execute_result"
    }
   ],
   "source": [
    "start, end, rc = map(int, input().split())\n",
    "\n",
    "ls = list(np.arange(start, end+1))\n",
    "  \n",
    "result = ls[rc%len(ls):]+ls[:rc%len(ls)]\n",
    "result"
   ]
  },
  {
   "cell_type": "markdown",
   "metadata": {},
   "source": [
    "### 2. 퍼즐 스트라이크\n",
    "- 0~9 까지의 숫자 세개를 랜덤으로 생성\n",
    "- 랜덤으로 생성된 숫자는 중복되면 안됨\n",
    "- 세개의 숫자를 입력받아 랜덤으로 생성된 세개의 숫자를 맞추는 게임\n",
    "- 세개의 숫자를 맞출때까지 계속 숫자를 입력받음\n",
    "- 세개의 숫자중에 자릿수와 숫자가 맞으면 strike\n",
    "- 세개의 숫자중에 숫자는 맞지만 자리수가 안 맞으면 ball\n",
    "- 아무것도 안 맞으면 out\n",
    "- 모두 맞추면 입력한 횟수를 출력하고 반복문 종료\n",
    "\n",
    "- 예시\n",
    "    - 랜덤한 숫자 : 6 2 8\n",
    "    - 입력 1 : 3 7 6\n",
    "        - 출력 : 0S 1B\n",
    "        - 설명 : 숫자 6이 있지만 자릿수가 틀림\n",
    "    - 입력 2 : 7 3 9\n",
    "        - 출력 : OUT\n",
    "        - 설명 : 입력한 모든 숫자가 없으므로 out\n",
    "    - 입력 3 : 6 8 2\n",
    "        - 출력 : 1S 2B \n",
    "        - 설명 : 숫자 6은 자릿수까지 맞으므로 1 strike\n",
    "        - 설명 : 숫자 8, 2는 자릿수가 틀리므로 2 ball\n",
    "    - 입력 4 : 6 2 8\n",
    "        - 출력 : 3S\n",
    "        - 설명 : 입력한 모든 숫자의 숫자와 자릿수가 맞으므로 3 strike"
   ]
  },
  {
   "cell_type": "markdown",
   "metadata": {},
   "source": [
    "<p style=\"text-align:center;\">랜덤한 숫자 : 6, 2, 8<p>\n",
    "\n",
    "|횟수|숫자1|숫자2|숫자3| 판정 |\n",
    "|----|-----|-----|-----|------|\n",
    "|  1 |  3  |  7  |  6  | 0S 1B| \n",
    "|  2 |  7  |  3  |  9  |  OUT | \n",
    "|  3 |  6  |  8  |  2  | 1S 2B| \n",
    "|  4 |  6  |  2  |  8  | 3S 0B| "
   ]
  },
  {
   "cell_type": "code",
   "execution_count": 2,
   "metadata": {},
   "outputs": [
    {
     "data": {
      "text/plain": [
       "False"
      ]
     },
     "execution_count": 2,
     "metadata": {},
     "output_type": "execute_result"
    }
   ],
   "source": [
    "[1,2,3] in [1,4,5]"
   ]
  },
  {
   "cell_type": "code",
   "execution_count": 22,
   "metadata": {},
   "outputs": [
    {
     "name": "stdout",
     "output_type": "stream",
     "text": [
      "[8, 9, 4]\n",
      "8 9 4\n",
      "입력1 :[8, 9, 4]\n",
      "3S0B\n",
      "1번의 시도후 게임이 종료되었습니다\n"
     ]
    }
   ],
   "source": [
    "ls = set(np.random.randint(10,size=3))\n",
    "while True:\n",
    "    if len(ls) == 3:\n",
    "        break\n",
    "    else:\n",
    "        ls.add(np.random.randint(10))\n",
    "        continue\n",
    "ls = list(ls)\n",
    "print(ls)\n",
    "\n",
    "count = 1\n",
    "\n",
    "\n",
    "while True:\n",
    "    strike = 0\n",
    "    ball = 0\n",
    "    \n",
    "    input_ls = list(map(int, input().split()))\n",
    "    print(\"입력{} :{}\".format(count, input_ls))\n",
    "    \n",
    "    # 숫자 비교\n",
    "    for idx in range(0,3):\n",
    "        if input_ls[idx] == ls[idx]:\n",
    "            strike += 1\n",
    "        elif input_ls[idx] in ls:\n",
    "            ball += 1\n",
    "    \n",
    "    # 아무것도 안맞으면 out\n",
    "    if strike == 0 and ball == 0:\n",
    "        print(\"OUT\")\n",
    "        count += 1\n",
    "        \n",
    "    elif strike == 3: \n",
    "        print(\"{}S{}B\".format(strike, ball))\n",
    "        print(\"{}번의 시도후 게임이 종료되었습니다\".format(count))\n",
    "        break\n",
    "    \n",
    "    else:\n",
    "        print(\"{}S{}B\".format(strike, ball))\n",
    "        count+=1\n",
    "    \n",
    "    "
   ]
  },
  {
   "cell_type": "code",
   "execution_count": 29,
   "metadata": {},
   "outputs": [],
   "source": [
    "from itertools import combinations, permutations"
   ]
  },
  {
   "cell_type": "code",
   "execution_count": 30,
   "metadata": {},
   "outputs": [
    {
     "data": {
      "text/plain": [
       "(5, 8, 2)"
      ]
     },
     "execution_count": 30,
     "metadata": {},
     "output_type": "execute_result"
    }
   ],
   "source": [
    "import random\n",
    "\n",
    "random.choice(list(permutations(range(10),3)))"
   ]
  },
  {
   "cell_type": "code",
   "execution_count": null,
   "metadata": {},
   "outputs": [],
   "source": []
  }
 ],
 "metadata": {
  "kernelspec": {
   "display_name": "Python 3",
   "language": "python",
   "name": "python3"
  },
  "language_info": {
   "codemirror_mode": {
    "name": "ipython",
    "version": 3
   },
   "file_extension": ".py",
   "mimetype": "text/x-python",
   "name": "python",
   "nbconvert_exporter": "python",
   "pygments_lexer": "ipython3",
   "version": "3.7.3"
  }
 },
 "nbformat": 4,
 "nbformat_minor": 2
}
